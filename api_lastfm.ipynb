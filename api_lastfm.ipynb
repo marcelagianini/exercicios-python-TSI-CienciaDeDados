{
  "nbformat": 4,
  "nbformat_minor": 0,
  "metadata": {
    "colab": {
      "provenance": [],
      "authorship_tag": "ABX9TyPXTu0oadWClkGzXYfDcOy+",
      "include_colab_link": true
    },
    "kernelspec": {
      "name": "python3",
      "display_name": "Python 3"
    },
    "language_info": {
      "name": "python"
    }
  },
  "cells": [
    {
      "cell_type": "markdown",
      "metadata": {
        "id": "view-in-github",
        "colab_type": "text"
      },
      "source": [
        "<a href=\"https://colab.research.google.com/github/marcelagianini/exercicios-python-TSI-CienciaDeDados/blob/main/api_lastfm.ipynb\" target=\"_parent\"><img src=\"https://colab.research.google.com/assets/colab-badge.svg\" alt=\"Open In Colab\"/></a>"
      ]
    },
    {
      "cell_type": "code",
      "execution_count": null,
      "metadata": {
        "id": "mG-d5uZWl_Iv",
        "outputId": "2be01cbe-2ae0-4e31-fe3b-504033b377e1",
        "colab": {
          "base_uri": "https://localhost:8080/"
        }
      },
      "outputs": [
        {
          "output_type": "stream",
          "name": "stdout",
          "text": [
            "Artista mais popular na Espanha: Coldplay\n"
          ]
        }
      ],
      "source": [
        "import json\n",
        "import requests\n",
        "API_KEY = 'ef6fe6691bd95525c7128a1348727898'\n",
        "\n",
        "maior = 0;\n",
        "art_mais_ouvido = ''\n",
        "\n",
        "for j in range(1,11):\n",
        "  url = f\"https://ws.audioscrobbler.com/2.0/?method=geo.gettopartists&country=spain&api_key={API_KEY}&format=json\"\n",
        "  data = requests.get(url).text\n",
        "  data = json.loads(data)\n",
        "\n",
        "  listaDeArtistas = data['topartists']['artist']\n",
        "\n",
        "for i in range(len(listaDeArtistas)):\n",
        "  if(int(listaDeArtistas[i]['listeners']) > maior):\n",
        "    maior = int(listaDeArtistas[i]['listeners'])\n",
        "    art_mais_ouvido = listaDeArtistas[i]['name']\n",
        "\n",
        "print(\"Artista mais popular na Espanha:\" , art_mais_ouvido)\n",
        ""
      ]
    }
  ]
}