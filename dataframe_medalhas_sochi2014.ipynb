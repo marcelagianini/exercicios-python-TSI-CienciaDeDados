{
  "nbformat": 4,
  "nbformat_minor": 0,
  "metadata": {
    "colab": {
      "provenance": [],
      "authorship_tag": "ABX9TyMfIcKOZfZ9dX1XflKsETf4",
      "include_colab_link": true
    },
    "kernelspec": {
      "name": "python3",
      "display_name": "Python 3"
    },
    "language_info": {
      "name": "python"
    }
  },
  "cells": [
    {
      "cell_type": "markdown",
      "metadata": {
        "id": "view-in-github",
        "colab_type": "text"
      },
      "source": [
        "<a href=\"https://colab.research.google.com/github/marcelagianini/exercicios-python-TSI-CienciaDeDados/blob/main/dataframe_medalhas_sochi2014.ipynb\" target=\"_parent\"><img src=\"https://colab.research.google.com/assets/colab-badge.svg\" alt=\"Open In Colab\"/></a>"
      ]
    },
    {
      "cell_type": "code",
      "execution_count": null,
      "metadata": {
        "colab": {
          "base_uri": "https://localhost:8080/"
        },
        "id": "G0zpsZL-AVAG",
        "outputId": "2784d548-439f-461e-90c0-2f600d728f92"
      },
      "outputs": [
        {
          "output_type": "stream",
          "name": "stdout",
          "text": [
            "              País  Medalhas de Ouro  Medalhas de Prata  Medalhas de Bronze\n",
            "0     Russian Fed.                13                 11                   9\n",
            "1           Norway                11                  5                  10\n",
            "2           Canada                10                 10                   5\n",
            "3    United States                 9                  7                  12\n",
            "4      Netherlands                 8                  7                   9\n",
            "5          Germany                 8                  6                   5\n",
            "6      Switzerland                 6                  3                   2\n",
            "7          Belarus                 5                  0                   1\n",
            "8          Austria                 4                  8                   5\n",
            "9           France                 4                  4                   7\n",
            "10          Poland                 4                  1                   1\n",
            "11           China                 3                  4                   2\n",
            "12           Korea                 3                  3                   2\n",
            "13          Sweden                 2                  7                   6\n",
            "14  Czech Republic                 2                  4                   2\n",
            "15        Slovenia                 2                  2                   4\n",
            "16           Japan                 1                  4                   3\n",
            "17         Finland                 1                  3                   1\n",
            "18   Great Britain                 1                  1                   2\n",
            "19         Ukraine                 1                  0                   1\n",
            "20        Slovakia                 1                  0                   0\n",
            "21           Italy                 0                  2                   6\n",
            "22          Latvia                 0                  2                   2\n",
            "23       Australia                 0                  2                   1\n",
            "24         Croatia                 0                  1                   0\n",
            "25      Kazakhstan                 0                  0                   1\n"
          ]
        }
      ],
      "source": [
        "#1.9\n",
        "\n",
        "from pandas import DataFrame, Series\n",
        "\n",
        "#################\n",
        "# Lembrete de sintaxe:\n",
        "# O seguinte código criará um DataFrame com duas colunas\n",
        "# nomeado df com as colunas 'name' e 'age':\n",
        "#\n",
        "# people = ['Sarah', 'Mike', 'Chrisna']\n",
        "# ages  =  [28, 32, 25]\n",
        "# df = DataFrame({'name' : Series(people),\n",
        "#                 'age'  : Series(ages)})\n",
        "\n",
        "def create_dataframe():\n",
        "    '''\n",
        "    Create a pandas dataframe called 'olympic_medal_counts_df' containing\n",
        "    the data from the table of 2014 Sochi winter olympics medal counts.\n",
        "\n",
        "    The columns for this dataframe should be called\n",
        "    'country_name', 'gold', 'silver', and 'bronze'.\n",
        "\n",
        "    There is no need to  specify row indexes for this dataframe\n",
        "    (in this case, the rows will automatically be assigned numbered indexes).\n",
        "\n",
        "    Data source: https://olympics.com/en/olympic-games/sochi-2014/medals\n",
        "    '''\n",
        "\n",
        "    countries = ['Russian Fed.', 'Norway', 'Canada', 'United States',\n",
        "                 'Netherlands', 'Germany', 'Switzerland', 'Belarus',\n",
        "                 'Austria', 'France', 'Poland', 'China', 'Korea',\n",
        "                 'Sweden', 'Czech Republic', 'Slovenia', 'Japan',\n",
        "                 'Finland', 'Great Britain', 'Ukraine', 'Slovakia',\n",
        "                 'Italy', 'Latvia', 'Australia', 'Croatia', 'Kazakhstan']\n",
        "\n",
        "    gold = [13, 11, 10, 9, 8, 8, 6, 5, 4, 4, 4, 3, 3, 2, 2, 2, 1, 1, 1, 1, 1, 0, 0, 0, 0, 0]\n",
        "    silver = [11, 5, 10, 7, 7, 6, 3, 0, 8, 4, 1, 4, 3, 7, 4, 2, 4, 3, 1, 0, 0, 2, 2, 2, 1, 0]\n",
        "    bronze = [9, 10, 5, 12, 9, 5, 2, 1, 5, 7, 1, 2, 2, 6, 2, 4, 3, 1, 2, 1, 0, 6, 2, 1, 0, 1]\n",
        "    # Resposta\n",
        "    df = DataFrame ({'País' :  Series(countries),\n",
        "                    'Medalhas de Ouro' : Series(gold),\n",
        "                    'Medalhas de Prata' : Series(silver),\n",
        "                    'Medalhas de Bronze' : Series(bronze)})\n",
        "    print(df)\n",
        "\n",
        "# Chame a função create_dataframe e imprima na tela o resultado\n",
        "\n",
        "\n",
        "create_dataframe()"
      ]
    },
    {
      "cell_type": "code",
      "source": [
        "#1.10\n",
        "import pandas as pd\n",
        "import numpy as np\n",
        "\n",
        "\n",
        "paises_medalhas= pd.DataFrame({ 'countries': ['Russian Fed.', 'Norway', 'Canada', 'United States',\n",
        "                 'Netherlands', 'Germany', 'Switzerland', 'Belarus',\n",
        "                 'Austria', 'France', 'Poland', 'China', 'Korea',\n",
        "                 'Sweden', 'Czech Republic', 'Slovenia', 'Japan',\n",
        "                 'Finland', 'Great Britain', 'Ukraine', 'Slovakia',\n",
        "                 'Italy', 'Latvia', 'Australia', 'Croatia', 'Kazakhstan', 'Coreia do Norte'],\n",
        "                  'gold': [13, 11, 10, 9, 8, 8, 6, 5, 4, 4, 4, 3, 3, 2, 2, 2, 1, 1, 1, 1, 1, 0, 0, 0, 0, 0,0],\n",
        "                  'silver': [11, 5, 10, 7, 7, 6, 3, 0, 8, 4, 1, 4, 3, 7, 4, 2, 4, 3, 1, 0, 0, 2, 2, 2, 1, 0,0],\n",
        "                  'bronze': [9, 10, 5, 12, 9, 5, 2, 1, 5, 7, 1, 2, 2, 6, 2, 4, 3, 1, 2, 1, 0, 6, 2, 1, 0, 1,0]\n",
        "\n",
        "})\n",
        "\n",
        "paises_com_medalhas = paises_medalhas[(paises_medalhas['gold']>0) | (paises_medalhas['silver']>0) | (paises_medalhas['bronze']>0)]\n",
        "\n",
        "\n",
        "avg_medal_count_zero = paises_medalhas[['gold','silver','bronze']].mean(axis=0)\n",
        "avg_medal_count = paises_com_medalhas[['gold','silver','bronze']].mean(axis=0)\n",
        "\n",
        "print(\"Media com o país zero:\\n\", avg_medal_count_zero)\n",
        "print(\"Media sem o país zero:\\n\", avg_medal_count)"
      ],
      "metadata": {
        "colab": {
          "base_uri": "https://localhost:8080/"
        },
        "id": "vSphYjNXBYuJ",
        "outputId": "6e4afdc2-000d-4c39-e84c-0b934409da42"
      },
      "execution_count": null,
      "outputs": [
        {
          "output_type": "stream",
          "name": "stdout",
          "text": [
            "Media com o país zero:\n",
            " gold      3.666667\n",
            "silver    3.592593\n",
            "bronze    3.666667\n",
            "dtype: float64\n",
            "Media sem o país zero:\n",
            " gold      3.807692\n",
            "silver    3.730769\n",
            "bronze    3.807692\n",
            "dtype: float64\n"
          ]
        }
      ]
    }
  ]
}